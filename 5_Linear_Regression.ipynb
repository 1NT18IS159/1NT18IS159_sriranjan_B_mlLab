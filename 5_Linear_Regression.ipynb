{
 "cells": [
  {
   "cell_type": "markdown",
   "id": "360222f6",
   "metadata": {},
   "source": [
    "## Linear Regression "
   ]
  },
  {
   "cell_type": "code",
   "execution_count": 1,
   "id": "b8ce7ecc",
   "metadata": {},
   "outputs": [],
   "source": [
    "import numpy as np \n",
    "import pandas as pd \n",
    "import matplotlib.pyplot as plt \n",
    "import seaborn as sns"
   ]
  },
  {
   "cell_type": "code",
   "execution_count": 2,
   "id": "f2fca7e5",
   "metadata": {},
   "outputs": [
    {
     "name": "stdout",
     "output_type": "stream",
     "text": [
      "<class 'pandas.core.frame.DataFrame'>\n",
      "RangeIndex: 97 entries, 0 to 96\n",
      "Data columns (total 2 columns):\n",
      " #   Column  Non-Null Count  Dtype  \n",
      "---  ------  --------------  -----  \n",
      " 0   X       97 non-null     float64\n",
      " 1   y       97 non-null     float64\n",
      "dtypes: float64(2)\n",
      "memory usage: 1.6 KB\n"
     ]
    },
    {
     "data": {
      "text/html": [
       "<div>\n",
       "<style scoped>\n",
       "    .dataframe tbody tr th:only-of-type {\n",
       "        vertical-align: middle;\n",
       "    }\n",
       "\n",
       "    .dataframe tbody tr th {\n",
       "        vertical-align: top;\n",
       "    }\n",
       "\n",
       "    .dataframe thead th {\n",
       "        text-align: right;\n",
       "    }\n",
       "</style>\n",
       "<table border=\"1\" class=\"dataframe\">\n",
       "  <thead>\n",
       "    <tr style=\"text-align: right;\">\n",
       "      <th></th>\n",
       "      <th>X</th>\n",
       "      <th>y</th>\n",
       "    </tr>\n",
       "  </thead>\n",
       "  <tbody>\n",
       "    <tr>\n",
       "      <th>0</th>\n",
       "      <td>6.1101</td>\n",
       "      <td>17.5920</td>\n",
       "    </tr>\n",
       "    <tr>\n",
       "      <th>1</th>\n",
       "      <td>5.5277</td>\n",
       "      <td>9.1302</td>\n",
       "    </tr>\n",
       "    <tr>\n",
       "      <th>2</th>\n",
       "      <td>8.5186</td>\n",
       "      <td>13.6620</td>\n",
       "    </tr>\n",
       "    <tr>\n",
       "      <th>3</th>\n",
       "      <td>7.0032</td>\n",
       "      <td>11.8540</td>\n",
       "    </tr>\n",
       "    <tr>\n",
       "      <th>4</th>\n",
       "      <td>5.8598</td>\n",
       "      <td>6.8233</td>\n",
       "    </tr>\n",
       "  </tbody>\n",
       "</table>\n",
       "</div>"
      ],
      "text/plain": [
       "        X        y\n",
       "0  6.1101  17.5920\n",
       "1  5.5277   9.1302\n",
       "2  8.5186  13.6620\n",
       "3  7.0032  11.8540\n",
       "4  5.8598   6.8233"
      ]
     },
     "execution_count": 2,
     "metadata": {},
     "output_type": "execute_result"
    }
   ],
   "source": [
    "df = pd.read_csv(\"Datasets/Food-Truck-LineReg.csv\",header = None, names=[\"X\",\"y\"])\n",
    "df.info()\n",
    "df.head()"
   ]
  },
  {
   "cell_type": "markdown",
   "id": "718db833",
   "metadata": {},
   "source": [
    "## Scatter Plot"
   ]
  },
  {
   "cell_type": "code",
   "execution_count": 3,
   "id": "97af9e81",
   "metadata": {},
   "outputs": [
    {
     "data": {
      "text/plain": [
       "Text(0, 0.5, 'y-axis')"
      ]
     },
     "execution_count": 3,
     "metadata": {},
     "output_type": "execute_result"
    },
    {
     "data": {
      "image/png": "[encoded data removed]",
      "text/plain": [
       "<Figure size 432x288 with 1 Axes>"
      ]
     },
     "metadata": {
      "needs_background": "light"
     },
     "output_type": "display_data"
    }
   ],
   "source": [
    "X = df[\"X\"]\n",
    "y = df[\"y\"]\n",
    "plt.scatter(X,y,s=None,c=None,alpha = 0.6)\n",
    "plt.title(\"Scatter Plot\")\n",
    "plt.xlabel(\"x-axis\")\n",
    "plt.ylabel(\"y-axis\")"
   ]
  },
  {
   "cell_type": "markdown",
   "id": "403ff1ce",
   "metadata": {},
   "source": [
    "## Correlation Matrix"
   ]
  },
  {
   "cell_type": "code",
   "execution_count": 4,
   "id": "65763928",
   "metadata": {
    "scrolled": true
   },
   "outputs": [
    {
     "data": {
      "image/png": "[encoded data removed]",
      "text/plain": [
       "<Figure size 432x288 with 2 Axes>"
      ]
     },
     "metadata": {
      "needs_background": "light"
     },
     "output_type": "display_data"
    }
   ],
   "source": [
    "corrMatrix = sns.heatmap(df.corr(), annot=True)"
   ]
  },
  {
   "cell_type": "markdown",
   "id": "a36a2e65",
   "metadata": {},
   "source": [
    "## Convert dataframe to list"
   ]
  },
  {
   "cell_type": "code",
   "execution_count": 5,
   "id": "518e035d",
   "metadata": {},
   "outputs": [
    {
     "name": "stdout",
     "output_type": "stream",
     "text": [
      "[6.1101, 5.5277, 8.5186, 7.0032, 5.8598, 8.3829, 7.4764, 8.5781, 6.4862, 5.0546, 5.7107, 14.164, 5.734, 8.4084, 5.6407, 5.3794, 6.3654, 5.1301, 6.4296, 7.0708, 6.1891, 20.27, 5.4901, 6.3261, 5.5649, 18.945, 12.828, 10.957, 13.176, 22.203, 5.2524, 6.5894, 9.2482, 5.8918, 8.2111, 7.9334, 8.0959, 5.6063, 12.836, 6.3534, 5.4069, 6.8825, 11.708, 5.7737, 7.8247, 7.0931, 5.0702, 5.8014, 11.7, 5.5416, 7.5402, 5.3077, 7.4239, 7.6031, 6.3328, 6.3589, 6.2742, 5.6397, 9.3102, 9.4536, 8.8254, 5.1793, 21.279, 14.908, 18.959, 7.2182, 8.2951, 10.236, 5.4994, 20.341, 10.136, 7.3345, 6.0062, 7.2259, 5.0269, 6.5479, 7.5386, 5.0365, 10.274, 5.1077, 5.7292, 5.1884, 6.3557, 9.7687, 6.5159, 8.5172, 9.1802, 6.002, 5.5204, 5.0594, 5.7077, 7.6366, 5.8707, 5.3054, 8.2934, 13.394, 5.4369] \n",
      "\n",
      " [17.592, 9.1302, 13.662, 11.854, 6.8233, 11.886, 4.3483, 12.0, 6.5987, 3.8166, 3.2522, 15.505, 3.1551, 7.2258, 0.71618, 3.5129, 5.3048, 0.56077, 3.6518, 5.3893, 3.1386, 21.767, 4.263, 5.1875, 3.0825, 22.638, 13.501, 7.0467, 14.692, 24.147, -1.22, 5.9966, 12.134, 1.8495, 6.5426, 4.5623, 4.1164, 3.3928, 10.117, 5.4974, 0.55657, 3.9115, 5.3854, 2.4406, 6.7318, 1.0463, 5.1337, 1.844, 8.0043, 1.0179, 6.7504, 1.8396, 4.2885, 4.9981, 1.4233, -1.4211, 2.4756, 4.6042, 3.9624, 5.4141, 5.1694, -0.74279, 17.929, 12.054, 17.054, 4.8852, 5.7442, 7.7754, 1.0173, 20.992, 6.6799, 4.0259, 1.2784, 3.3411, -2.6807, 0.29678, 3.8845, 5.7014, 6.7526, 2.0576, 0.47953, 0.20421, 0.67861, 7.5435, 5.3436, 4.2415, 6.7981, 0.92695, 0.152, 2.8214, 1.8451, 4.2959, 7.2029, 1.9869, 0.14454, 9.0551, 0.61705]\n"
     ]
    }
   ],
   "source": [
    "X = df[\"X\"].tolist()\n",
    "y = df[\"y\"].tolist()\n",
    "N = len(X)\n",
    "print(X,\"\\n\\n\",y)"
   ]
  },
  {
   "cell_type": "markdown",
   "id": "c7cb9c71",
   "metadata": {},
   "source": [
    "## Find mean of X and y"
   ]
  },
  {
   "cell_type": "code",
   "execution_count": 6,
   "id": "9c337859",
   "metadata": {},
   "outputs": [
    {
     "name": "stdout",
     "output_type": "stream",
     "text": [
      "8.159800000000002  5.83913505154639\n"
     ]
    }
   ],
   "source": [
    "sum_x = 0\n",
    "sum_y = 0 \n",
    "for i in range(0,N):\n",
    "    sum_x += X[i]\n",
    "    sum_y += y[i]\n",
    "\n",
    "mean_x = sum_x/N\n",
    "mean_y = sum_y/N\n",
    "\n",
    "print(mean_x,\"\",mean_y)"
   ]
  },
  {
   "cell_type": "markdown",
   "id": "ace20687",
   "metadata": {},
   "source": [
    "## Summation of Xy, sum($X^2$), sum($y^2$) and find r"
   ]
  },
  {
   "cell_type": "code",
   "execution_count": 7,
   "id": "20fd1fc8",
   "metadata": {},
   "outputs": [
    {
     "name": "stdout",
     "output_type": "stream",
     "text": [
      "6336.898425319003\n",
      "7896.182453740001\n",
      "6222.110372226397\n",
      "\n",
      "r =  0.9040642647654091\n"
     ]
    }
   ],
   "source": [
    "Xy = []\n",
    "SqX = []\n",
    "Sqy = []\n",
    "for i in range(0,N):\n",
    "    Xy.append(X[i] * y[i])\n",
    "    SqX.append(X[i] * X[i])\n",
    "    Sqy.append(y[i] * y[i])\n",
    "\n",
    "print(sum(Xy))\n",
    "print(sum(SqX))\n",
    "print(sum(Sqy))\n",
    "r = sum(Xy)/((sum(SqX)*sum(Sqy)) ** (1/2))\n",
    "print(\"\\nr = \",r)"
   ]
  },
  {
   "cell_type": "markdown",
   "id": "e7807395",
   "metadata": {},
   "source": [
    "## Standard Deviation of X and y"
   ]
  },
  {
   "cell_type": "code",
   "execution_count": 8,
   "id": "e74ef710",
   "metadata": {},
   "outputs": [
    {
     "name": "stdout",
     "output_type": "stream",
     "text": [
      "3.849883995922716\n",
      "5.48178525707763\n"
     ]
    }
   ],
   "source": [
    "X1 = []\n",
    "y1 = []\n",
    "for i in range(0,N):\n",
    "    X1.append((X[i] - mean_x) ** 2)\n",
    "    y1.append((y[i] - mean_y) ** 2)\n",
    "\n",
    "var1 = sum(X1)/N\n",
    "var2 = sum(y1)/N\n",
    "\n",
    "std_X = (var1) ** (1/2)\n",
    "std_y = (var2) ** (1/2)\n",
    "\n",
    "print(std_X)\n",
    "print(std_y)"
   ]
  },
  {
   "cell_type": "markdown",
   "id": "c4abf733",
   "metadata": {},
   "source": [
    "## Find slope (m)"
   ]
  },
  {
   "cell_type": "code",
   "execution_count": 9,
   "id": "a46556d4",
   "metadata": {},
   "outputs": [
    {
     "name": "stdout",
     "output_type": "stream",
     "text": [
      "1.287281944934019\n"
     ]
    }
   ],
   "source": [
    "m = r * (std_y/std_X) \n",
    "print(m)"
   ]
  },
  {
   "cell_type": "markdown",
   "id": "2668cb77",
   "metadata": {},
   "source": [
    "## Find intercept (c)"
   ]
  },
  {
   "cell_type": "code",
   "execution_count": 10,
   "id": "ca03d473",
   "metadata": {},
   "outputs": [
    {
     "name": "stdout",
     "output_type": "stream",
     "text": [
      "-4.664828162726221\n"
     ]
    }
   ],
   "source": [
    "c = mean_y - (m) * (mean_x)\n",
    "print(c)"
   ]
  },
  {
   "cell_type": "code",
   "execution_count": 11,
   "id": "b8b6749e",
   "metadata": {},
   "outputs": [
    {
     "name": "stdout",
     "output_type": "stream",
     "text": [
      "[3.200593249015128, 2.450880244285556, 6.301011813388711, 4.3502647540357, 2.8783865781981435, 6.126327653461165, 4.959406570378477, 6.3776050891122855, 3.6847399885048135, 1.8418671561372708, 2.6864528402084815, 13.568233305319225, 2.7164465095254435, 6.1591533430569845, 2.5963431040630995, 2.259976331851841, 3.5292363295567837, 1.9390569429797893, 3.6118798304215476, 4.4372850135132405, 3.3022885226649157, 21.428376861086342, 2.4024784431560366, 3.478646149120876, 2.4987671326371004, 19.72272828404877, 11.848424626887375, 9.439920107915825, 12.296398743724414, 23.916692860643803, 2.09649152484522, 3.8175874852220035, 7.240212720412575, 2.919579600436032, 5.905172615321502, 5.547694419213324, 5.756877735265104, 2.5520606051573695, 11.858722882446848, 3.5137889462175744, 2.295376585337526, 4.194889823282165, 10.406668848561274, 2.7675516027393243, 5.407766871798997, 4.465991400885268, 1.8619487544782416, 2.8032093126139968, 10.396370593001798, 2.4687734633201384, 5.041535158465268, 2.1676782164000707, 4.891824268269441, 5.122505192801619, 3.4872709381519345, 3.520868996914712, 3.411836216178801, 2.595055822118166, 7.320024200998483, 7.50462043190202, 6.695949914094469, 2.002391214670543, 22.72724434352477, 14.525971072350135, 19.740750231277843, 4.627030372196516, 6.013304298695959, 8.511789825618397, 2.414450165243922, 21.51977387917666, 8.383061631124995, 4.776741262392341, 3.0668446549364834, 4.636942443172507, 1.8062094462625993, 3.764165284507242, 5.039475507353374, 1.8185673529339654, 8.560706539525889, 1.9102218274132676, 2.71026755618976, 2.0141054803694427, 3.5167496946909234, 7.910242972750731, 3.722972262269354, 6.299209618665807, 7.152677548157059, 3.0614380707677604, 2.441483086087538, 1.8480461094729543, 2.6825909943736788, 5.165629137956908, 2.892417951397924, 2.1647174679267227, 6.011115919389572, 12.577026207720031, 2.3339950436855466]\n"
     ]
    }
   ],
   "source": [
    "y_pred = []\n",
    "for i in range(0,N):\n",
    "    y_pred.append(m * X[i] + c)\n",
    "print(y_pred)"
   ]
  },
  {
   "cell_type": "markdown",
   "id": "c0b38d8f",
   "metadata": {},
   "source": [
    "## Sum Square Error (SSE)"
   ]
  },
  {
   "cell_type": "code",
   "execution_count": 12,
   "id": "ddeb88ca",
   "metadata": {},
   "outputs": [
    {
     "name": "stdout",
     "output_type": "stream",
     "text": [
      "881.3031285968033\n"
     ]
    }
   ],
   "source": [
    "#(actual - predicted) ** 2\n",
    "SSE = 0\n",
    "for i in range(0,N):\n",
    "    SSE += (y[i] - y_pred[i])**2\n",
    "print(SSE)"
   ]
  },
  {
   "cell_type": "markdown",
   "id": "50fd3173",
   "metadata": {},
   "source": [
    "## Mean Square Error (MSE)"
   ]
  },
  {
   "cell_type": "code",
   "execution_count": 13,
   "id": "e41b0e7e",
   "metadata": {},
   "outputs": [
    {
     "name": "stdout",
     "output_type": "stream",
     "text": [
      "9.08559926388457\n"
     ]
    }
   ],
   "source": [
    "MSE = SSE/N\n",
    "print(MSE)"
   ]
  },
  {
   "cell_type": "markdown",
   "id": "fd2eedc4",
   "metadata": {},
   "source": [
    "## SSR (Sum of Squares Residual), SST (Sum of Squares Total)"
   ]
  },
  {
   "cell_type": "code",
   "execution_count": 14,
   "id": "bc8cf2cb",
   "metadata": {},
   "outputs": [
    {
     "name": "stdout",
     "output_type": "stream",
     "text": [
      "Total Sum of Squares  2914.8470516572247\n"
     ]
    }
   ],
   "source": [
    "# SST = (actual - mean)**2\n",
    "SST = 0\n",
    "for i in range (0,N):\n",
    "    SST += (y[i] - mean_y)**2\n",
    "print(\"Total Sum of Squares \",SST)"
   ]
  },
  {
   "cell_type": "code",
   "execution_count": 18,
   "id": "d4523d33",
   "metadata": {},
   "outputs": [
    {
     "name": "stdout",
     "output_type": "stream",
     "text": [
      "Sum of Squares of Regression  2382.398338312567\n",
      "\n",
      " 2033.5439230604215\n"
     ]
    }
   ],
   "source": [
    "mean_y_pred = sum(y_pred)/N\n",
    "\n",
    "#SSR is (y_pred - mean of Y-pred) ** 2\n",
    "SSR = 0\n",
    "for i in range(0,N):\n",
    "    SSR += (y_pred[i] - mean_y_pred) ** 2\n",
    "print(\"Sum of Squares of Regression \",SSR)"
   ]
  },
  {
   "cell_type": "markdown",
   "id": "0be5487a",
   "metadata": {},
   "source": [
    "## Coefficient of Determination (R$^2$)"
   ]
  },
  {
   "cell_type": "code",
   "execution_count": 16,
   "id": "230378a6",
   "metadata": {},
   "outputs": [
    {
     "name": "stdout",
     "output_type": "stream",
     "text": [
      "0.6976503010352664\n"
     ]
    }
   ],
   "source": [
    "CoeffOfDet = 1 - (SSE/SST)\n",
    "print(CoeffOfDet)"
   ]
  },
  {
   "cell_type": "markdown",
   "id": "1b27128a",
   "metadata": {},
   "source": [
    "## Plot y_actual against y_predicted"
   ]
  },
  {
   "cell_type": "code",
   "execution_count": 17,
   "id": "e9ff2822",
   "metadata": {},
   "outputs": [
    {
     "data": {
      "image/png": "[encoded data removed]",
      "text/plain": [
       "<Figure size 432x288 with 1 Axes>"
      ]
     },
     "metadata": {
      "needs_background": "light"
     },
     "output_type": "display_data"
    }
   ],
   "source": [
    "plt.scatter(X,y,s=None,c=None,alpha = 0.8)\n",
    "plt.plot(X,y_pred,color=\"Black\")\n",
    "plt.show()"
   ]
  }
 ],
 "metadata": {
  "kernelspec": {
   "display_name": "Python 3",
   "language": "python",
   "name": "python3"
  },
  "language_info": {
   "codemirror_mode": {
    "name": "ipython",
    "version": 3
   },
   "file_extension": ".py",
   "mimetype": "text/x-python",
   "name": "python",
   "nbconvert_exporter": "python",
   "pygments_lexer": "ipython3",
   "version": "3.8.8"
  }
 },
 "nbformat": 4,
 "nbformat_minor": 5
}
