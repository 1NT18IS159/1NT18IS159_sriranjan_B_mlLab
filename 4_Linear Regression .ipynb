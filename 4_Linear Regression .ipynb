{
 "cells": [
  {
   "cell_type": "markdown",
   "id": "360222f6",
   "metadata": {},
   "source": [
    "## Linear Regression "
   ]
  },
  {
   "cell_type": "code",
   "execution_count": 1,
   "id": "b8ce7ecc",
   "metadata": {},
   "outputs": [],
   "source": [
    "import numpy as np \n",
    "import pandas as pd \n",
    "import matplotlib.pyplot as plt \n",
    "import seaborn as sns\n",
    "%matplotlib inline"
   ]
  },
  {
   "cell_type": "code",
   "execution_count": 2,
   "id": "f2fca7e5",
   "metadata": {},
   "outputs": [
    {
     "name": "stdout",
     "output_type": "stream",
     "text": [
      "<class 'pandas.core.frame.DataFrame'>\n",
      "RangeIndex: 97 entries, 0 to 96\n",
      "Data columns (total 2 columns):\n",
      " #   Column  Non-Null Count  Dtype  \n",
      "---  ------  --------------  -----  \n",
      " 0   X       97 non-null     float64\n",
      " 1   y       97 non-null     float64\n",
      "dtypes: float64(2)\n",
      "memory usage: 1.6 KB\n"
     ]
    },
    {
     "data": {
      "text/html": [
       "<div>\n",
       "<style scoped>\n",
       "    .dataframe tbody tr th:only-of-type {\n",
       "        vertical-align: middle;\n",
       "    }\n",
       "\n",
       "    .dataframe tbody tr th {\n",
       "        vertical-align: top;\n",
       "    }\n",
       "\n",
       "    .dataframe thead th {\n",
       "        text-align: right;\n",
       "    }\n",
       "</style>\n",
       "<table border=\"1\" class=\"dataframe\">\n",
       "  <thead>\n",
       "    <tr style=\"text-align: right;\">\n",
       "      <th></th>\n",
       "      <th>X</th>\n",
       "      <th>y</th>\n",
       "    </tr>\n",
       "  </thead>\n",
       "  <tbody>\n",
       "    <tr>\n",
       "      <th>0</th>\n",
       "      <td>6.1101</td>\n",
       "      <td>17.5920</td>\n",
       "    </tr>\n",
       "    <tr>\n",
       "      <th>1</th>\n",
       "      <td>5.5277</td>\n",
       "      <td>9.1302</td>\n",
       "    </tr>\n",
       "    <tr>\n",
       "      <th>2</th>\n",
       "      <td>8.5186</td>\n",
       "      <td>13.6620</td>\n",
       "    </tr>\n",
       "    <tr>\n",
       "      <th>3</th>\n",
       "      <td>7.0032</td>\n",
       "      <td>11.8540</td>\n",
       "    </tr>\n",
       "    <tr>\n",
       "      <th>4</th>\n",
       "      <td>5.8598</td>\n",
       "      <td>6.8233</td>\n",
       "    </tr>\n",
       "  </tbody>\n",
       "</table>\n",
       "</div>"
      ],
      "text/plain": [
       "        X        y\n",
       "0  6.1101  17.5920\n",
       "1  5.5277   9.1302\n",
       "2  8.5186  13.6620\n",
       "3  7.0032  11.8540\n",
       "4  5.8598   6.8233"
      ]
     },
     "execution_count": 2,
     "metadata": {},
     "output_type": "execute_result"
    }
   ],
   "source": [
    "df = pd.read_csv(\"Food-Truck-LineReg.csv\",header = None, names=[\"X\",\"y\"])\n",
    "df.info()\n",
    "df.head()"
   ]
  },
  {
   "cell_type": "markdown",
   "id": "718db833",
   "metadata": {},
   "source": [
    "## Scatter Plot"
   ]
  },
  {
   "cell_type": "code",
   "execution_count": 3,
   "id": "97af9e81",
   "metadata": {},
   "outputs": [
    {
     "data": {
      "text/plain": [
       "Text(0, 0.5, 'y-axis')"
      ]
     },
     "execution_count": 3,
     "metadata": {},
     "output_type": "execute_result"
    },
    {
     "data": {
      "image/png": "[encoded data removed]",
      "text/plain": [
       "<Figure size 432x288 with 1 Axes>"
      ]
     },
     "metadata": {
      "needs_background": "light"
     },
     "output_type": "display_data"
    }
   ],
   "source": [
    "X = df[\"X\"]\n",
    "y = df[\"y\"]\n",
    "plt.scatter(X,y,s=None,c=None,alpha = 0.7)\n",
    "plt.title(\"Scatter Plot\")\n",
    "plt.xlabel(\"x-axis\")\n",
    "plt.ylabel(\"y-axis\")"
   ]
  },
  {
   "cell_type": "markdown",
   "id": "403ff1ce",
   "metadata": {},
   "source": [
    "## Correlation Matrix"
   ]
  },
  {
   "cell_type": "code",
   "execution_count": 4,
   "id": "65763928",
   "metadata": {
    "scrolled": true
   },
   "outputs": [
    {
     "data": {
      "image/png": "[encoded data removed]",
      "text/plain": [
       "<Figure size 432x288 with 2 Axes>"
      ]
     },
     "metadata": {
      "needs_background": "light"
     },
     "output_type": "display_data"
    }
   ],
   "source": [
    "corrMatrix = sns.heatmap(df.corr(), annot=True)"
   ]
  },
  {
   "cell_type": "markdown",
   "id": "a36a2e65",
   "metadata": {},
   "source": [
    "## Convert dataframe to list"
   ]
  },
  {
   "cell_type": "code",
   "execution_count": 5,
   "id": "518e035d",
   "metadata": {},
   "outputs": [
    {
     "name": "stdout",
     "output_type": "stream",
     "text": [
      "[6.1101, 5.5277, 8.5186, 7.0032, 5.8598, 8.3829, 7.4764, 8.5781, 6.4862, 5.0546, 5.7107, 14.164, 5.734, 8.4084, 5.6407, 5.3794, 6.3654, 5.1301, 6.4296, 7.0708, 6.1891, 20.27, 5.4901, 6.3261, 5.5649, 18.945, 12.828, 10.957, 13.176, 22.203, 5.2524, 6.5894, 9.2482, 5.8918, 8.2111, 7.9334, 8.0959, 5.6063, 12.836, 6.3534, 5.4069, 6.8825, 11.708, 5.7737, 7.8247, 7.0931, 5.0702, 5.8014, 11.7, 5.5416, 7.5402, 5.3077, 7.4239, 7.6031, 6.3328, 6.3589, 6.2742, 5.6397, 9.3102, 9.4536, 8.8254, 5.1793, 21.279, 14.908, 18.959, 7.2182, 8.2951, 10.236, 5.4994, 20.341, 10.136, 7.3345, 6.0062, 7.2259, 5.0269, 6.5479, 7.5386, 5.0365, 10.274, 5.1077, 5.7292, 5.1884, 6.3557, 9.7687, 6.5159, 8.5172, 9.1802, 6.002, 5.5204, 5.0594, 5.7077, 7.6366, 5.8707, 5.3054, 8.2934, 13.394, 5.4369] \n",
      "\n",
      " [17.592, 9.1302, 13.662, 11.854, 6.8233, 11.886, 4.3483, 12.0, 6.5987, 3.8166, 3.2522, 15.505, 3.1551, 7.2258, 0.71618, 3.5129, 5.3048, 0.56077, 3.6518, 5.3893, 3.1386, 21.767, 4.263, 5.1875, 3.0825, 22.638, 13.501, 7.0467, 14.692, 24.147, -1.22, 5.9966, 12.134, 1.8495, 6.5426, 4.5623, 4.1164, 3.3928, 10.117, 5.4974, 0.55657, 3.9115, 5.3854, 2.4406, 6.7318, 1.0463, 5.1337, 1.844, 8.0043, 1.0179, 6.7504, 1.8396, 4.2885, 4.9981, 1.4233, -1.4211, 2.4756, 4.6042, 3.9624, 5.4141, 5.1694, -0.74279, 17.929, 12.054, 17.054, 4.8852, 5.7442, 7.7754, 1.0173, 20.992, 6.6799, 4.0259, 1.2784, 3.3411, -2.6807, 0.29678, 3.8845, 5.7014, 6.7526, 2.0576, 0.47953, 0.20421, 0.67861, 7.5435, 5.3436, 4.2415, 6.7981, 0.92695, 0.152, 2.8214, 1.8451, 4.2959, 7.2029, 1.9869, 0.14454, 9.0551, 0.61705]\n"
     ]
    }
   ],
   "source": [
    "X = df[\"X\"].tolist()\n",
    "y = df[\"y\"].tolist()\n",
    "N = len(X)\n",
    "print(X,\"\\n\\n\",y)"
   ]
  },
  {
   "cell_type": "markdown",
   "id": "c7cb9c71",
   "metadata": {},
   "source": [
    "## Find mean of X and y"
   ]
  },
  {
   "cell_type": "code",
   "execution_count": 6,
   "id": "9c337859",
   "metadata": {},
   "outputs": [
    {
     "name": "stdout",
     "output_type": "stream",
     "text": [
      "8.159800000000002  5.83913505154639\n"
     ]
    }
   ],
   "source": [
    "sum_x = 0\n",
    "sum_y = 0 \n",
    "for i in range(0,N):\n",
    "    sum_x += X[i]\n",
    "    sum_y += y[i]\n",
    "\n",
    "mean_x = sum_x/N\n",
    "mean_y = sum_y/N\n",
    "\n",
    "print(mean_x,\"\",mean_y)"
   ]
  },
  {
   "cell_type": "markdown",
   "id": "ace20687",
   "metadata": {},
   "source": [
    "## Summation of Xy, sum($X^2$), sum($y^2$) and find r"
   ]
  },
  {
   "cell_type": "code",
   "execution_count": 7,
   "id": "20fd1fc8",
   "metadata": {},
   "outputs": [
    {
     "name": "stdout",
     "output_type": "stream",
     "text": [
      "6336.898425319003\n",
      "7896.182453740001\n",
      "6222.110372226397\n",
      "\n",
      "r =  0.00012897984786377177\n"
     ]
    }
   ],
   "source": [
    "Xy = []\n",
    "SqX = []\n",
    "Sqy = []\n",
    "for i in range(0,N):\n",
    "    Xy.append(X[i] * y[i])\n",
    "    SqX.append(X[i] * X[i])\n",
    "    Sqy.append(y[i] * y[i])\n",
    "\n",
    "print(sum(Xy))\n",
    "print(sum(SqX))\n",
    "print(sum(Sqy))\n",
    "r = sum(Xy)/(sum(SqX)*sum(Sqy))\n",
    "print(\"\\nr = \",r)"
   ]
  },
  {
   "cell_type": "markdown",
   "id": "e7807395",
   "metadata": {},
   "source": [
    "## Standard Deviation of X and y"
   ]
  },
  {
   "cell_type": "code",
   "execution_count": 8,
   "id": "e74ef710",
   "metadata": {},
   "outputs": [
    {
     "name": "stdout",
     "output_type": "stream",
     "text": [
      "3.849883995922716\n",
      "5.48178525707763\n"
     ]
    }
   ],
   "source": [
    "X1 = []\n",
    "y1 = []\n",
    "for i in range(0,N):\n",
    "    X1.append((X[i] - mean_x) ** 2)\n",
    "    y1.append((y[i] - mean_y) ** 2)\n",
    "\n",
    "var1 = sum(X1)/N\n",
    "var2 = sum(y1)/N\n",
    "\n",
    "std_X = (var1) ** (1/2)\n",
    "std_y = (var2) ** (1/2)\n",
    "\n",
    "print(std_X)\n",
    "print(std_y)"
   ]
  },
  {
   "cell_type": "markdown",
   "id": "c4abf733",
   "metadata": {},
   "source": [
    "## Find slope (m)"
   ]
  },
  {
   "cell_type": "code",
   "execution_count": 9,
   "id": "a46556d4",
   "metadata": {},
   "outputs": [
    {
     "name": "stdout",
     "output_type": "stream",
     "text": [
      "0.0001836522423087402\n"
     ]
    }
   ],
   "source": [
    "m = r * (std_y/std_X) \n",
    "print(m)"
   ]
  },
  {
   "cell_type": "markdown",
   "id": "2668cb77",
   "metadata": {},
   "source": [
    "## Find intercept (c)"
   ]
  },
  {
   "cell_type": "code",
   "execution_count": 10,
   "id": "ca03d473",
   "metadata": {},
   "outputs": [
    {
     "name": "stdout",
     "output_type": "stream",
     "text": [
      "5.8376364859795995\n"
     ]
    }
   ],
   "source": [
    "c = mean_y - (m)*(mean_x)\n",
    "print(c)\n",
    "l_rate = 0.001"
   ]
  },
  {
   "cell_type": "code",
   "execution_count": 11,
   "id": "b8b6749e",
   "metadata": {},
   "outputs": [
    {
     "name": "stdout",
     "output_type": "stream",
     "text": [
      "[5.83875861954533, 5.838651660479409, 5.839200945970931, 5.838922639362936, 5.838712651389081, 5.83917602436165, 5.839009543603996, 5.839211873279348, 5.8388276911536625, 5.838564774603573, 5.838685268839752, 5.8402377363396605, 5.838689547936998, 5.839180707493829, 5.83867241318279, 5.838624424851875, 5.8388055059627915, 5.838578640347867, 5.838817296436748, 5.838935054254516, 5.838773128072472, 5.841359116931198, 5.838644755155099, 5.838798288429669, 5.838658492342823, 5.841115777710138, 5.839992376943936, 5.839648763598577, 5.840056287924259, 5.841714116715581, 5.838601101017102, 5.838846644065069, 5.839334938646919, 5.838718528260834, 5.839144472906421, 5.839093472678732, 5.839123316168107, 5.838666095545655, 5.839993846161875, 5.838803302135884, 5.838629475288538, 5.838900472537289, 5.83978668643255, 5.838696838931018, 5.839073509679992, 5.838939149699519, 5.838567639578553, 5.838701926098129, 5.839785217214612, 5.838654213245578, 5.839021260617056, 5.838611256986102, 5.838999901861276, 5.839032812343097, 5.838799518899692, 5.838804312223217, 5.838788756878293, 5.838672229530548, 5.839346325085942, 5.83937266081749, 5.839257290478871, 5.838587676038189, 5.841544422043687, 5.840374373607938, 5.841118348841531, 5.8389621245950325, 5.839159899694775, 5.839516350331872, 5.838646463120952, 5.841372156240402, 5.8394979851076405, 5.8389834833508125, 5.838739538077355, 5.838963538717298, 5.838559687436462, 5.838839022497013, 5.839020966773468, 5.838561450497988, 5.839523329117079, 5.83857452653764, 5.8386886664062345, 5.838589347273595, 5.838803724536041, 5.839430529639041, 5.838833145625259, 5.839200688857791, 5.839322450294442, 5.8387387667379365, 5.838650319818041, 5.838565656134336, 5.838684717883025, 5.839038964693215, 5.8387146531985215, 5.838610834585944, 5.8391595874859625, 5.840096324113083, 5.8386349848558075]\n"
     ]
    }
   ],
   "source": [
    "y_pred = []\n",
    "for i in range(0,N):\n",
    "    y_pred.append(m*X[i]+c)\n",
    "print(y_pred)"
   ]
  },
  {
   "cell_type": "markdown",
   "id": "cfeacc31",
   "metadata": {},
   "source": [
    "## Gradient Descent"
   ]
  },
  {
   "cell_type": "code",
   "execution_count": 12,
   "id": "099bb548",
   "metadata": {},
   "outputs": [],
   "source": [
    "def grad_desc(m,c):\n",
    "    pred = []\n",
    "    c_sum = 0\n",
    "    m_sum = 0\n",
    "    \n",
    "    for i in range(N):\n",
    "        pred.append(m*X[i]+c)\n",
    "        \n",
    "    for i in range(N):\n",
    "        m_sum += X[i] * (y[i] - pred[i])\n",
    "        c_sum += (y[i] - pred[i])\n",
    "        \n",
    "    m_grad = (-2 / N) * m_sum\n",
    "    c_grad = (-2 / N) * c_sum\n",
    "    \n",
    "    m -= l_rate * m_grad\n",
    "    c -= l_rate * c_grad\n",
    "    \n",
    "    return m,c,pred"
   ]
  },
  {
   "cell_type": "code",
   "execution_count": 13,
   "id": "55dc6cb8",
   "metadata": {},
   "outputs": [
    {
     "name": "stdout",
     "output_type": "stream",
     "text": [
      "1.1664130225156906 -3.6307958367065254\n"
     ]
    }
   ],
   "source": [
    "for i in range(10000):\n",
    "    m,c,y_pred = grad_desc(m,c)\n",
    "print(m,c)"
   ]
  },
  {
   "cell_type": "markdown",
   "id": "c0b38d8f",
   "metadata": {},
   "source": [
    "## Sum Square Error or Sum of Squares of Residuals (SSE or SSR)"
   ]
  },
  {
   "cell_type": "code",
   "execution_count": 14,
   "id": "ddeb88ca",
   "metadata": {},
   "outputs": [
    {
     "name": "stdout",
     "output_type": "stream",
     "text": [
      "869.7734907319058\n"
     ]
    }
   ],
   "source": [
    "# (actual - predicted)**2\n",
    "SSE = 0\n",
    "for i in range(0,N):\n",
    "    SSE += (y[i] - y_pred[i])**2\n",
    "print(SSE)"
   ]
  },
  {
   "cell_type": "markdown",
   "id": "50fd3173",
   "metadata": {},
   "source": [
    "## Mean Square Error (MSE)"
   ]
  },
  {
   "cell_type": "code",
   "execution_count": 15,
   "id": "e41b0e7e",
   "metadata": {},
   "outputs": [
    {
     "name": "stdout",
     "output_type": "stream",
     "text": [
      "8.9667370178547\n"
     ]
    }
   ],
   "source": [
    "MSE = SSE/N\n",
    "print(MSE)"
   ]
  },
  {
   "cell_type": "markdown",
   "id": "c1eed8a1",
   "metadata": {},
   "source": [
    "## Root Mean Square Error (RMSE)"
   ]
  },
  {
   "cell_type": "code",
   "execution_count": 16,
   "id": "c4c12c8a",
   "metadata": {},
   "outputs": [
    {
     "name": "stdout",
     "output_type": "stream",
     "text": [
      "2.994451037812223\n"
     ]
    }
   ],
   "source": [
    "RMSE = MSE ** (1/2)\n",
    "print(RMSE)"
   ]
  },
  {
   "cell_type": "markdown",
   "id": "fd2eedc4",
   "metadata": {},
   "source": [
    "## SSR (Residual Sum of Squares), SST (Total Sum of Squares)"
   ]
  },
  {
   "cell_type": "code",
   "execution_count": 17,
   "id": "bc8cf2cb",
   "metadata": {},
   "outputs": [
    {
     "name": "stdout",
     "output_type": "stream",
     "text": [
      "Total Sum of Squares  2914.8470516572247\n",
      "Mean of y predicted  5.886918371219483\n",
      "Sum of Squares of Regression  1955.980818734747\n"
     ]
    }
   ],
   "source": [
    "# SST = (actual - mean)**2\n",
    "# SSR = SST - SSE\n",
    "SST = 0\n",
    "SSR = 0\n",
    "\n",
    "for i in range (0,N):\n",
    "    SST += (y[i] - mean_y)**2\n",
    "print(\"Total Sum of Squares \",SST)\n",
    "\n",
    "mean_y_pred = sum(y_pred)/N\n",
    "print(\"Mean of y predicted \",mean_y_pred)\n",
    "\n",
    "#SSR is (y_pred - mean of Y-pred)**2\n",
    "for i in range(0,N):\n",
    "    SSR += (y_pred[i] - mean_y_pred)**2\n",
    "print(\"Sum of Squares of Regression \",SSR)"
   ]
  },
  {
   "cell_type": "markdown",
   "id": "0be5487a",
   "metadata": {},
   "source": [
    "## Coefficient of Determination (R$^2$)"
   ]
  },
  {
   "cell_type": "code",
   "execution_count": 18,
   "id": "230378a6",
   "metadata": {},
   "outputs": [
    {
     "name": "stdout",
     "output_type": "stream",
     "text": [
      "0.7016057874332036\n"
     ]
    }
   ],
   "source": [
    "CoeffOfDet = 1 - (SSE/SST)\n",
    "print(CoeffOfDet)"
   ]
  },
  {
   "cell_type": "markdown",
   "id": "1b27128a",
   "metadata": {},
   "source": [
    "## Plot y_actual against y_predicted"
   ]
  },
  {
   "cell_type": "code",
   "execution_count": 19,
   "id": "e9ff2822",
   "metadata": {},
   "outputs": [
    {
     "data": {
      "image/png": "[encoded data removed]",
      "text/plain": [
       "<Figure size 432x288 with 1 Axes>"
      ]
     },
     "metadata": {
      "needs_background": "light"
     },
     "output_type": "display_data"
    }
   ],
   "source": [
    "plt.scatter(X,y,s=None,c=None,alpha = 0.7)\n",
    "plt.plot(X,y_pred,color=\"Black\")\n",
    "plt.show()"
   ]
  }
 ],
 "metadata": {
  "kernelspec": {
   "display_name": "Python 3",
   "language": "python",
   "name": "python3"
  },
  "language_info": {
   "codemirror_mode": {
    "name": "ipython",
    "version": 3
   },
   "file_extension": ".py",
   "mimetype": "text/x-python",
   "name": "python",
   "nbconvert_exporter": "python",
   "pygments_lexer": "ipython3",
   "version": "3.8.8"
  }
 },
 "nbformat": 4,
 "nbformat_minor": 5
}
