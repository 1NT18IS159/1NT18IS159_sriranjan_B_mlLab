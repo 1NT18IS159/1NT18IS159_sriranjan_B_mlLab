{
 "cells": [
  {
   "cell_type": "markdown",
   "id": "819cc6c3",
   "metadata": {},
   "source": [
    "## Addition of two lists "
   ]
  },
  {
   "cell_type": "code",
   "execution_count": 9,
   "id": "908eedde",
   "metadata": {},
   "outputs": [
    {
     "data": {
      "text/plain": [
       "[8, 9, 10, 11, 12, 13]"
      ]
     },
     "execution_count": 9,
     "metadata": {},
     "output_type": "execute_result"
    }
   ],
   "source": [
    "a = [1,2,3,4,5,6]\n",
    "b = [7,7,7,7,7,7]\n",
    "c = []\n",
    "\n",
    "for i in range(0, len(a)):\n",
    "    c.append(a[i]+b[i])\n",
    "    \n",
    "c"
   ]
  },
  {
   "cell_type": "markdown",
   "id": "8a5b05f3",
   "metadata": {},
   "source": [
    "## Simple Calculator"
   ]
  },
  {
   "cell_type": "code",
   "execution_count": 10,
   "id": "bceede62",
   "metadata": {},
   "outputs": [
    {
     "name": "stdout",
     "output_type": "stream",
     "text": [
      "Enter: \n",
      "1. Add \n",
      "2. Subtract \n",
      "3. Multiply \n",
      "4. Divide\n"
     ]
    }
   ],
   "source": [
    "print(\"Enter: \\n1. Add \\n2. Subtract \\n3. Multiply \\n4. Divide\")"
   ]
  },
  {
   "cell_type": "code",
   "execution_count": 19,
   "id": "1f072778",
   "metadata": {},
   "outputs": [
    {
     "name": "stdout",
     "output_type": "stream",
     "text": [
      "Your choice please: \n",
      "1\n",
      "Enter two operands: \n",
      "12\n",
      "45\n",
      "Your output is:  57\n"
     ]
    }
   ],
   "source": [
    "print(\"Your choice please: \")\n",
    "x = int(input())\n",
    "\n",
    "print(\"Enter two operands: \")\n",
    "a = int(input())\n",
    "b = int(input())\n",
    "\n",
    "if x == 1:\n",
    "    c = a + b\n",
    "    print(\"Your output is: \",c)\n",
    "\n",
    "elif x == 2:\n",
    "    c = a - b\n",
    "    print(\"Your output is: \",c)\n",
    "    \n",
    "elif x == 3: \n",
    "    c = a * b\n",
    "    print(\"Your output is: \",c)\n",
    "    \n",
    "elif x == 4:\n",
    "    c = a / b\n",
    "    print(\"Your output is: \",c)\n",
    "    \n",
    "else:\n",
    "    print(\"Bye bye!\")"
   ]
  },
  {
   "cell_type": "markdown",
   "id": "f5d58b42",
   "metadata": {},
   "source": [
    "## Bubble Sort "
   ]
  },
  {
   "cell_type": "code",
   "execution_count": 28,
   "id": "ee67056d",
   "metadata": {},
   "outputs": [
    {
     "data": {
      "text/plain": [
       "[1, 3.9, 5, 7, 34, 59, 78, 123]"
      ]
     },
     "execution_count": 28,
     "metadata": {},
     "output_type": "execute_result"
    }
   ],
   "source": [
    "l1 = [5,34,7,3.9,78,1,123,59]\n",
    "\n",
    "for i in range(0, len(l1)):\n",
    "    for j in range(i, len(l1)):\n",
    "        if(l1[i] > l1[j]):\n",
    "            c = l1[i] \n",
    "            l1[i] = l1[j]\n",
    "            l1[j] = c\n",
    "            \n",
    "l1"
   ]
  },
  {
   "cell_type": "markdown",
   "id": "e7595524",
   "metadata": {},
   "source": [
    "## Mean, Median & Mode"
   ]
  },
  {
   "cell_type": "markdown",
   "id": "8a830bcc",
   "metadata": {},
   "source": [
    "### Mean"
   ]
  },
  {
   "cell_type": "code",
   "execution_count": 30,
   "id": "22727111",
   "metadata": {},
   "outputs": [
    {
     "name": "stdout",
     "output_type": "stream",
     "text": [
      "Mean is:  61.25\n"
     ]
    }
   ],
   "source": [
    "a = [2, 56, 67, 23, 1 ,235, 9, 97]\n",
    "mean = sum(a)/len(a)\n",
    "print(\"Mean is: \",mean)"
   ]
  },
  {
   "cell_type": "markdown",
   "id": "aa7df4ae",
   "metadata": {},
   "source": [
    "### Median"
   ]
  },
  {
   "cell_type": "code",
   "execution_count": 50,
   "id": "00b241f1",
   "metadata": {},
   "outputs": [
    {
     "data": {
      "text/plain": [
       "[1, 2, 9, 23, 23, 56, 67, 97, 235]"
      ]
     },
     "execution_count": 50,
     "metadata": {},
     "output_type": "execute_result"
    }
   ],
   "source": [
    "a = [2, 56, 67, 23, 1 ,235, 9, 97, 23]\n",
    "for i in range(0, len(a)):\n",
    "    for j in range(i, len(a)):\n",
    "        if(a[i] > a[j]):\n",
    "            temp = a[i] \n",
    "            a[i] = a[j]\n",
    "            a[j] = temp        \n",
    "a"
   ]
  },
  {
   "cell_type": "code",
   "execution_count": 51,
   "id": "3d0d7c6e",
   "metadata": {},
   "outputs": [
    {
     "name": "stdout",
     "output_type": "stream",
     "text": [
      "Median is:  23\n"
     ]
    }
   ],
   "source": [
    "x = len(a)\n",
    "\n",
    "if x % 2 == 0:\n",
    "    median = (a[int(x/2) - 1] + a[int(x/2 +1) - 1]) / 2\n",
    "    print(\"Median is: \",median)\n",
    "    \n",
    "else: \n",
    "    xemp = int((x+1)/2)\n",
    "    median = a[xemp-1]\n",
    "    print(\"Median is: \",median)    "
   ]
  },
  {
   "cell_type": "markdown",
   "id": "774341ca",
   "metadata": {},
   "source": [
    "### Mode"
   ]
  },
  {
   "cell_type": "code",
   "execution_count": 52,
   "id": "635eef72",
   "metadata": {},
   "outputs": [
    {
     "data": {
      "text/plain": [
       "23"
      ]
     },
     "execution_count": 52,
     "metadata": {},
     "output_type": "execute_result"
    }
   ],
   "source": [
    "counter = {}\n",
    "max = 0\n",
    "for i in range(0,len(a)):\n",
    "    if a[i] not in counter:\n",
    "        counter[a[i]] = 1\n",
    "        \n",
    "    else: \n",
    "        counter[a[i]] += 1\n",
    "        \n",
    "    if  max < counter[a[i]]:\n",
    "        max = counter[a[i]]\n",
    "        mode = a[i]\n",
    "mode"
   ]
  },
  {
   "cell_type": "markdown",
   "id": "06cfdf36",
   "metadata": {},
   "source": [
    "## Standard Deviation "
   ]
  },
  {
   "cell_type": "code",
   "execution_count": 54,
   "id": "f170e6fe",
   "metadata": {},
   "outputs": [
    {
     "data": {
      "text/plain": [
       "70.17799789741005"
      ]
     },
     "execution_count": 54,
     "metadata": {},
     "output_type": "execute_result"
    }
   ],
   "source": [
    "y = []\n",
    "for i in range(0, len(a)):\n",
    "    y.append((a[i] - mean) ** 2)\n",
    "var = sum(y)/len(a)\n",
    "sd = (var) ** (1/2)\n",
    "sd"
   ]
  },
  {
   "cell_type": "code",
   "execution_count": 59,
   "id": "be661ee0",
   "metadata": {},
   "outputs": [
    {
     "data": {
      "text/plain": [
       "70.0491890666044"
      ]
     },
     "execution_count": 59,
     "metadata": {},
     "output_type": "execute_result"
    }
   ],
   "source": [
    "import numpy as np \n",
    "np.std(a)"
   ]
  }
 ],
 "metadata": {
  "kernelspec": {
   "display_name": "Python 3",
   "language": "python",
   "name": "python3"
  },
  "language_info": {
   "codemirror_mode": {
    "name": "ipython",
    "version": 3
   },
   "file_extension": ".py",
   "mimetype": "text/x-python",
   "name": "python",
   "nbconvert_exporter": "python",
   "pygments_lexer": "ipython3",
   "version": "3.8.8"
  }
 },
 "nbformat": 4,
 "nbformat_minor": 5
}
